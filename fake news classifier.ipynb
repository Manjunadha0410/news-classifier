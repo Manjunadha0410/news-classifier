{
 "cells": [
  {
   "cell_type": "markdown",
   "id": "b947f71d",
   "metadata": {},
   "source": [
    "## Fake news classifier using spacy"
   ]
  },
  {
   "cell_type": "markdown",
   "id": "d71b1c86",
   "metadata": {},
   "source": [
    "import required libraries"
   ]
  },
  {
   "cell_type": "code",
   "execution_count": 1,
   "id": "5eb64c0a",
   "metadata": {},
   "outputs": [],
   "source": [
    "  import pandas as pd\n",
    "  import numpy as np\n",
    "  import spacy\n",
    "  import sklearn\n",
    "  from sklearn.model_selection import train_test_split\n",
    "  from sklearn.naive_bayes import MultinomialNB\n",
    "  from sklearn.preprocessing import MinMaxScaler\n",
    "  from sklearn.metrics import classification_report\n",
    "  from  sklearn.neighbors import KNeighborsClassifier  \n",
    "  import pickle"
   ]
  },
  {
   "cell_type": "markdown",
   "id": "c3af7739",
   "metadata": {},
   "source": [
    "creating a pandas dataframe from the csv file"
   ]
  },
  {
   "cell_type": "code",
   "execution_count": 2,
   "id": "8210b47f",
   "metadata": {
    "scrolled": true
   },
   "outputs": [
    {
     "data": {
      "text/html": [
       "<div>\n",
       "<style scoped>\n",
       "    .dataframe tbody tr th:only-of-type {\n",
       "        vertical-align: middle;\n",
       "    }\n",
       "\n",
       "    .dataframe tbody tr th {\n",
       "        vertical-align: top;\n",
       "    }\n",
       "\n",
       "    .dataframe thead th {\n",
       "        text-align: right;\n",
       "    }\n",
       "</style>\n",
       "<table border=\"1\" class=\"dataframe\">\n",
       "  <thead>\n",
       "    <tr style=\"text-align: right;\">\n",
       "      <th></th>\n",
       "      <th>title</th>\n",
       "      <th>text</th>\n",
       "      <th>subject</th>\n",
       "      <th>date</th>\n",
       "      <th>label</th>\n",
       "    </tr>\n",
       "  </thead>\n",
       "  <tbody>\n",
       "    <tr>\n",
       "      <th>0</th>\n",
       "      <td>Donald Trump Sends Out Embarrassing New Year’...</td>\n",
       "      <td>Donald Trump just couldn t wish all Americans ...</td>\n",
       "      <td>News</td>\n",
       "      <td>December 31, 2017</td>\n",
       "      <td>0</td>\n",
       "    </tr>\n",
       "    <tr>\n",
       "      <th>1</th>\n",
       "      <td>Drunk Bragging Trump Staffer Started Russian ...</td>\n",
       "      <td>House Intelligence Committee Chairman Devin Nu...</td>\n",
       "      <td>News</td>\n",
       "      <td>December 31, 2017</td>\n",
       "      <td>0</td>\n",
       "    </tr>\n",
       "    <tr>\n",
       "      <th>2</th>\n",
       "      <td>Sheriff David Clarke Becomes An Internet Joke...</td>\n",
       "      <td>On Friday, it was revealed that former Milwauk...</td>\n",
       "      <td>News</td>\n",
       "      <td>December 30, 2017</td>\n",
       "      <td>0</td>\n",
       "    </tr>\n",
       "    <tr>\n",
       "      <th>3</th>\n",
       "      <td>Trump Is So Obsessed He Even Has Obama’s Name...</td>\n",
       "      <td>On Christmas day, Donald Trump announced that ...</td>\n",
       "      <td>News</td>\n",
       "      <td>December 29, 2017</td>\n",
       "      <td>0</td>\n",
       "    </tr>\n",
       "    <tr>\n",
       "      <th>4</th>\n",
       "      <td>Pope Francis Just Called Out Donald Trump Dur...</td>\n",
       "      <td>Pope Francis used his annual Christmas Day mes...</td>\n",
       "      <td>News</td>\n",
       "      <td>December 25, 2017</td>\n",
       "      <td>0</td>\n",
       "    </tr>\n",
       "    <tr>\n",
       "      <th>...</th>\n",
       "      <td>...</td>\n",
       "      <td>...</td>\n",
       "      <td>...</td>\n",
       "      <td>...</td>\n",
       "      <td>...</td>\n",
       "    </tr>\n",
       "    <tr>\n",
       "      <th>44893</th>\n",
       "      <td>'Fully committed' NATO backs new U.S. approach...</td>\n",
       "      <td>BRUSSELS (Reuters) - NATO allies on Tuesday we...</td>\n",
       "      <td>worldnews</td>\n",
       "      <td>August 22, 2017</td>\n",
       "      <td>1</td>\n",
       "    </tr>\n",
       "    <tr>\n",
       "      <th>44894</th>\n",
       "      <td>LexisNexis withdrew two products from Chinese ...</td>\n",
       "      <td>LONDON (Reuters) - LexisNexis, a provider of l...</td>\n",
       "      <td>worldnews</td>\n",
       "      <td>August 22, 2017</td>\n",
       "      <td>1</td>\n",
       "    </tr>\n",
       "    <tr>\n",
       "      <th>44895</th>\n",
       "      <td>Minsk cultural hub becomes haven from authorities</td>\n",
       "      <td>MINSK (Reuters) - In the shadow of disused Sov...</td>\n",
       "      <td>worldnews</td>\n",
       "      <td>August 22, 2017</td>\n",
       "      <td>1</td>\n",
       "    </tr>\n",
       "    <tr>\n",
       "      <th>44896</th>\n",
       "      <td>Vatican upbeat on possibility of Pope Francis ...</td>\n",
       "      <td>MOSCOW (Reuters) - Vatican Secretary of State ...</td>\n",
       "      <td>worldnews</td>\n",
       "      <td>August 22, 2017</td>\n",
       "      <td>1</td>\n",
       "    </tr>\n",
       "    <tr>\n",
       "      <th>44897</th>\n",
       "      <td>Indonesia to buy $1.14 billion worth of Russia...</td>\n",
       "      <td>JAKARTA (Reuters) - Indonesia will buy 11 Sukh...</td>\n",
       "      <td>worldnews</td>\n",
       "      <td>August 22, 2017</td>\n",
       "      <td>1</td>\n",
       "    </tr>\n",
       "  </tbody>\n",
       "</table>\n",
       "<p>44898 rows × 5 columns</p>\n",
       "</div>"
      ],
      "text/plain": [
       "                                                   title  \\\n",
       "0       Donald Trump Sends Out Embarrassing New Year’...   \n",
       "1       Drunk Bragging Trump Staffer Started Russian ...   \n",
       "2       Sheriff David Clarke Becomes An Internet Joke...   \n",
       "3       Trump Is So Obsessed He Even Has Obama’s Name...   \n",
       "4       Pope Francis Just Called Out Donald Trump Dur...   \n",
       "...                                                  ...   \n",
       "44893  'Fully committed' NATO backs new U.S. approach...   \n",
       "44894  LexisNexis withdrew two products from Chinese ...   \n",
       "44895  Minsk cultural hub becomes haven from authorities   \n",
       "44896  Vatican upbeat on possibility of Pope Francis ...   \n",
       "44897  Indonesia to buy $1.14 billion worth of Russia...   \n",
       "\n",
       "                                                    text    subject  \\\n",
       "0      Donald Trump just couldn t wish all Americans ...       News   \n",
       "1      House Intelligence Committee Chairman Devin Nu...       News   \n",
       "2      On Friday, it was revealed that former Milwauk...       News   \n",
       "3      On Christmas day, Donald Trump announced that ...       News   \n",
       "4      Pope Francis used his annual Christmas Day mes...       News   \n",
       "...                                                  ...        ...   \n",
       "44893  BRUSSELS (Reuters) - NATO allies on Tuesday we...  worldnews   \n",
       "44894  LONDON (Reuters) - LexisNexis, a provider of l...  worldnews   \n",
       "44895  MINSK (Reuters) - In the shadow of disused Sov...  worldnews   \n",
       "44896  MOSCOW (Reuters) - Vatican Secretary of State ...  worldnews   \n",
       "44897  JAKARTA (Reuters) - Indonesia will buy 11 Sukh...  worldnews   \n",
       "\n",
       "                    date  label  \n",
       "0      December 31, 2017      0  \n",
       "1      December 31, 2017      0  \n",
       "2      December 30, 2017      0  \n",
       "3      December 29, 2017      0  \n",
       "4      December 25, 2017      0  \n",
       "...                  ...    ...  \n",
       "44893   August 22, 2017       1  \n",
       "44894   August 22, 2017       1  \n",
       "44895   August 22, 2017       1  \n",
       "44896   August 22, 2017       1  \n",
       "44897   August 22, 2017       1  \n",
       "\n",
       "[44898 rows x 5 columns]"
      ]
     },
     "execution_count": 2,
     "metadata": {},
     "output_type": "execute_result"
    }
   ],
   "source": [
    "  r1= pd.read_csv(\"archive\\Fake.csv\")\n",
    "  r1['label']=0\n",
    "  r2= pd.read_csv(\"archive\\True.csv\")\n",
    "  r2['label']=1\n",
    "  r3= pd.concat([r1,r2],ignore_index=True)\n",
    "  r3"
   ]
  },
  {
   "cell_type": "markdown",
   "id": "a9405f93",
   "metadata": {},
   "source": [
    "converting text into encodings using spacy. followed by spliting the data into train and test.followed by scalling the data"
   ]
  },
  {
   "cell_type": "code",
   "execution_count": 3,
   "id": "7f77413b",
   "metadata": {},
   "outputs": [],
   "source": [
    "nlp = spacy.load(\"en_core_web_lg\")"
   ]
  },
  {
   "cell_type": "code",
   "execution_count": 4,
   "id": "e43aa59c",
   "metadata": {},
   "outputs": [],
   "source": [
    "r3['vector']=r3['text'].apply(lambda x :nlp(x).vector)"
   ]
  },
  {
   "cell_type": "code",
   "execution_count": 24,
   "id": "ee770ad5",
   "metadata": {},
   "outputs": [
    {
     "data": {
      "text/plain": [
       "(300,)"
      ]
     },
     "execution_count": 24,
     "metadata": {},
     "output_type": "execute_result"
    }
   ],
   "source": [
    "r3['vector'][0].shape"
   ]
  },
  {
   "cell_type": "code",
   "execution_count": 5,
   "id": "91e74d6b",
   "metadata": {},
   "outputs": [],
   "source": [
    "xtr,xte,ytr,yte =train_test_split(r3.vector.values,r3.label,test_size=0.2,random_state=20022)"
   ]
  },
  {
   "cell_type": "code",
   "execution_count": 6,
   "id": "aa5022d6",
   "metadata": {
    "scrolled": true
   },
   "outputs": [],
   "source": [
    "xtr2d = np.stack(xtr)\n",
    "xte2d = np.stack(xte)"
   ]
  },
  {
   "cell_type": "code",
   "execution_count": 7,
   "id": "f96ebe1b",
   "metadata": {},
   "outputs": [],
   "source": [
    "scaler = MinMaxScaler()\n",
    "scaledtr=scaler.fit_transform(xtr2d)\n",
    "scaledte=scaler.fit_transform(xte2d)"
   ]
  },
  {
   "cell_type": "code",
   "execution_count": 25,
   "id": "4a3d894f",
   "metadata": {},
   "outputs": [
    {
     "data": {
      "text/plain": [
       "(35918, 300)"
      ]
     },
     "execution_count": 25,
     "metadata": {},
     "output_type": "execute_result"
    }
   ],
   "source": [
    "scaledtr.shape"
   ]
  },
  {
   "cell_type": "markdown",
   "id": "7308dee3",
   "metadata": {},
   "source": [
    "using various methods to find which is better"
   ]
  },
  {
   "cell_type": "code",
   "execution_count": 8,
   "id": "a187f1da",
   "metadata": {},
   "outputs": [
    {
     "name": "stdout",
     "output_type": "stream",
     "text": [
      "              precision    recall  f1-score   support\n",
      "\n",
      "           0       0.93      0.79      0.85      4632\n",
      "           1       0.80      0.94      0.87      4348\n",
      "\n",
      "    accuracy                           0.86      8980\n",
      "   macro avg       0.87      0.86      0.86      8980\n",
      "weighted avg       0.87      0.86      0.86      8980\n",
      "\n"
     ]
    }
   ],
   "source": [
    "classifier=MultinomialNB()\n",
    "classifier.fit(scaledtr,ytr)\n",
    "pickle.dump(classifier, open('modelnb.pkl', 'wb'))\n",
    "ypred=classifier.predict(scaledte)\n",
    "print(classification_report(yte,ypred))"
   ]
  },
  {
   "cell_type": "code",
   "execution_count": 9,
   "id": "9c06a86b",
   "metadata": {
    "scrolled": true
   },
   "outputs": [
    {
     "name": "stdout",
     "output_type": "stream",
     "text": [
      "              precision    recall  f1-score   support\n",
      "\n",
      "           0       0.99      0.93      0.96      4632\n",
      "           1       0.93      0.99      0.95      4348\n",
      "\n",
      "    accuracy                           0.96      8980\n",
      "   macro avg       0.96      0.96      0.96      8980\n",
      "weighted avg       0.96      0.96      0.96      8980\n",
      "\n"
     ]
    }
   ],
   "source": [
    "classifier = KNeighborsClassifier(n_neighbors = 5, metric = 'euclidean')\n",
    "classifier.fit(scaledtr,ytr)\n",
    "pickle.dump(classifier, open('modelknn.pkl', 'wb'))\n",
    "ypred=classifier.predict(scaledte)\n",
    "print(classification_report(yte,ypred))"
   ]
  },
  {
   "cell_type": "code",
   "execution_count": 10,
   "id": "ed5db390",
   "metadata": {},
   "outputs": [
    {
     "name": "stdout",
     "output_type": "stream",
     "text": [
      "              precision    recall  f1-score   support\n",
      "\n",
      "           0       0.90      1.00      0.95      4632\n",
      "           1       1.00      0.89      0.94      4348\n",
      "\n",
      "    accuracy                           0.94      8980\n",
      "   macro avg       0.95      0.94      0.94      8980\n",
      "weighted avg       0.95      0.94      0.94      8980\n",
      "\n"
     ]
    },
    {
     "name": "stderr",
     "output_type": "stream",
     "text": [
      "C:\\ProgramData\\anaconda3\\lib\\site-packages\\sklearn\\linear_model\\_logistic.py:458: ConvergenceWarning: lbfgs failed to converge (status=1):\n",
      "STOP: TOTAL NO. of ITERATIONS REACHED LIMIT.\n",
      "\n",
      "Increase the number of iterations (max_iter) or scale the data as shown in:\n",
      "    https://scikit-learn.org/stable/modules/preprocessing.html\n",
      "Please also refer to the documentation for alternative solver options:\n",
      "    https://scikit-learn.org/stable/modules/linear_model.html#logistic-regression\n",
      "  n_iter_i = _check_optimize_result(\n"
     ]
    }
   ],
   "source": [
    "from sklearn.linear_model import LogisticRegression  \n",
    "classifier= LogisticRegression()  \n",
    " \n",
    "classifier.fit(scaledtr,ytr)\n",
    "pickle.dump(classifier, open('modellg.pkl', 'wb'))\n",
    "ypred=classifier.predict(scaledte)\n",
    "print(classification_report(yte,ypred))"
   ]
  },
  {
   "cell_type": "code",
   "execution_count": 11,
   "id": "0aa10981",
   "metadata": {},
   "outputs": [
    {
     "name": "stdout",
     "output_type": "stream",
     "text": [
      "              precision    recall  f1-score   support\n",
      "\n",
      "           0       0.68      1.00      0.81      4632\n",
      "           1       1.00      0.49      0.66      4348\n",
      "\n",
      "    accuracy                           0.76      8980\n",
      "   macro avg       0.84      0.75      0.73      8980\n",
      "weighted avg       0.83      0.76      0.74      8980\n",
      "\n"
     ]
    }
   ],
   "source": [
    "from sklearn.svm import SVC # \"Support vector classifier\"  \n",
    "classifier = SVC(kernel='linear')\n",
    "classifier.fit(scaledtr,ytr)\n",
    "pickle.dump(classifier, open('modelsvm.pkl', 'wb'))\n",
    "ypred=classifier.predict(scaledte)\n",
    "print(classification_report(yte,ypred))"
   ]
  },
  {
   "cell_type": "code",
   "execution_count": 12,
   "id": "9d338190",
   "metadata": {},
   "outputs": [
    {
     "name": "stdout",
     "output_type": "stream",
     "text": [
      "              precision    recall  f1-score   support\n",
      "\n",
      "           0       0.93      1.00      0.96      4632\n",
      "           1       1.00      0.92      0.96      4348\n",
      "\n",
      "    accuracy                           0.96      8980\n",
      "   macro avg       0.96      0.96      0.96      8980\n",
      "weighted avg       0.96      0.96      0.96      8980\n",
      "\n"
     ]
    }
   ],
   "source": [
    "from sklearn.svm import SVC # \"Support vector classifier\"  \n",
    "classifier = SVC(kernel='rbf')\n",
    "classifier.fit(scaledtr,ytr)\n",
    "pickle.dump(classifier, open('modelsvms.pkl', 'wb'))\n",
    "ypred=classifier.predict(scaledte)\n",
    "print(classification_report(yte,ypred))"
   ]
  },
  {
   "cell_type": "code",
   "execution_count": 23,
   "id": "9333aa84",
   "metadata": {},
   "outputs": [
    {
     "name": "stdout",
     "output_type": "stream",
     "text": [
      "              precision    recall  f1-score   support\n",
      "\n",
      "           0       0.76      0.79      0.78      4632\n",
      "           1       0.77      0.74      0.75      4348\n",
      "\n",
      "    accuracy                           0.77      8980\n",
      "   macro avg       0.77      0.77      0.77      8980\n",
      "weighted avg       0.77      0.77      0.77      8980\n",
      "\n"
     ]
    }
   ],
   "source": [
    "from sklearn.ensemble import RandomForestClassifier  \n",
    "classifier= RandomForestClassifier(n_estimators= 2, criterion=\"entropy\")  \n",
    "classifier.fit(scaledtr,ytr)\n",
    "pickle.dump(classifier, open('modelrf.pkl', 'wb'))\n",
    "ypred=classifier.predict(scaledte)\n",
    "print(classification_report(yte,ypred))"
   ]
  },
  {
   "cell_type": "code",
   "execution_count": 19,
   "id": "6b4d8f99",
   "metadata": {},
   "outputs": [
    {
     "name": "stdout",
     "output_type": "stream",
     "text": [
      "              precision    recall  f1-score   support\n",
      "\n",
      "           0       0.84      0.52      0.64      4632\n",
      "           1       0.64      0.89      0.74      4348\n",
      "\n",
      "    accuracy                           0.70      8980\n",
      "   macro avg       0.74      0.71      0.69      8980\n",
      "weighted avg       0.74      0.70      0.69      8980\n",
      "\n"
     ]
    }
   ],
   "source": [
    "from sklearn.tree import DecisionTreeClassifier  \n",
    "classifier= DecisionTreeClassifier(criterion='log_loss', random_state=20220)\n",
    "classifier.fit(scaledtr,ytr)\n",
    "pickle.dump(classifier, open('modeldt.pkl', 'wb'))\n",
    "ypred=classifier.predict(scaledte)\n",
    "print(classification_report(yte,ypred))"
   ]
  }
 ],
 "metadata": {
  "kernelspec": {
   "display_name": "Python 3 (ipykernel)",
   "language": "python",
   "name": "python3"
  },
  "language_info": {
   "codemirror_mode": {
    "name": "ipython",
    "version": 3
   },
   "file_extension": ".py",
   "mimetype": "text/x-python",
   "name": "python",
   "nbconvert_exporter": "python",
   "pygments_lexer": "ipython3",
   "version": "3.10.9"
  }
 },
 "nbformat": 4,
 "nbformat_minor": 5
}
